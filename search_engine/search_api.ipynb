{
 "cells": [
  {
   "cell_type": "code",
   "execution_count": 1,
   "metadata": {},
   "outputs": [
    {
     "name": "stdout",
     "output_type": "stream",
     "text": [
      "Requirement already satisfied: fastapi in c:\\users\\user\\anaconda3\\lib\\site-packages (0.115.6)\n",
      "Requirement already satisfied: uvicorn in c:\\users\\user\\anaconda3\\lib\\site-packages (0.32.1)\n",
      "Requirement already satisfied: nltk in c:\\users\\user\\anaconda3\\lib\\site-packages (3.7)\n",
      "Requirement already satisfied: rapidfuzz in c:\\users\\user\\anaconda3\\lib\\site-packages (3.10.1)\n",
      "Requirement already satisfied: pickle-mixin in c:\\users\\user\\anaconda3\\lib\\site-packages (1.0.2)\n",
      "Requirement already satisfied: typing-extensions>=4.8.0 in c:\\users\\user\\anaconda3\\lib\\site-packages (from fastapi) (4.12.2)\n",
      "Requirement already satisfied: starlette<0.42.0,>=0.40.0 in c:\\users\\user\\anaconda3\\lib\\site-packages (from fastapi) (0.41.3)\n",
      "Requirement already satisfied: pydantic!=1.8,!=1.8.1,!=2.0.0,!=2.0.1,!=2.1.0,<3.0.0,>=1.7.4 in c:\\users\\user\\anaconda3\\lib\\site-packages (from fastapi) (2.10.3)\n",
      "Requirement already satisfied: h11>=0.8 in c:\\users\\user\\anaconda3\\lib\\site-packages (from uvicorn) (0.14.0)\n",
      "Requirement already satisfied: click>=7.0 in c:\\users\\user\\anaconda3\\lib\\site-packages (from uvicorn) (8.0.4)\n",
      "Requirement already satisfied: regex>=2021.8.3 in c:\\users\\user\\anaconda3\\lib\\site-packages (from nltk) (2022.7.9)\n",
      "Requirement already satisfied: joblib in c:\\users\\user\\anaconda3\\lib\\site-packages (from nltk) (1.1.1)\n",
      "Requirement already satisfied: tqdm in c:\\users\\user\\anaconda3\\lib\\site-packages (from nltk) (4.64.1)\n",
      "Requirement already satisfied: colorama in c:\\users\\user\\anaconda3\\lib\\site-packages (from click>=7.0->uvicorn) (0.4.6)\n",
      "Requirement already satisfied: pydantic-core==2.27.1 in c:\\users\\user\\anaconda3\\lib\\site-packages (from pydantic!=1.8,!=1.8.1,!=2.0.0,!=2.0.1,!=2.1.0,<3.0.0,>=1.7.4->fastapi) (2.27.1)\n",
      "Requirement already satisfied: annotated-types>=0.6.0 in c:\\users\\user\\anaconda3\\lib\\site-packages (from pydantic!=1.8,!=1.8.1,!=2.0.0,!=2.0.1,!=2.1.0,<3.0.0,>=1.7.4->fastapi) (0.7.0)\n",
      "Requirement already satisfied: anyio<5,>=3.4.0 in c:\\users\\user\\anaconda3\\lib\\site-packages (from starlette<0.42.0,>=0.40.0->fastapi) (3.5.0)\n",
      "Requirement already satisfied: idna>=2.8 in c:\\users\\user\\anaconda3\\lib\\site-packages (from anyio<5,>=3.4.0->starlette<0.42.0,>=0.40.0->fastapi) (3.4)\n",
      "Requirement already satisfied: sniffio>=1.1 in c:\\users\\user\\anaconda3\\lib\\site-packages (from anyio<5,>=3.4.0->starlette<0.42.0,>=0.40.0->fastapi) (1.2.0)\n"
     ]
    }
   ],
   "source": [
    "# !pip install fastapi uvicorn nltk rapidfuzz pickle-mixin\n"
   ]
  },
  {
   "cell_type": "code",
   "execution_count": 1,
   "metadata": {},
   "outputs": [],
   "source": [
    "from fastapi import FastAPI\n",
    "import string\n",
    "import nltk\n",
    "from nltk.corpus import stopwords\n",
    "from nltk.stem import WordNetLemmatizer\n",
    "from nltk.stem import PorterStemmer\n",
    "import pickle\n",
    "from rapidfuzz import process\n",
    "import json\n",
    "import nest_asyncio \n",
    "\n",
    "import uvicorn\n",
    "from fastapi.middleware.cors import CORSMiddleware\n",
    "\n"
   ]
  },
  {
   "cell_type": "code",
   "execution_count": 2,
   "metadata": {},
   "outputs": [
    {
     "name": "stderr",
     "output_type": "stream",
     "text": [
      "[nltk_data] Downloading package stopwords to\n",
      "[nltk_data]     C:\\Users\\USER\\AppData\\Roaming\\nltk_data...\n",
      "[nltk_data]   Package stopwords is already up-to-date!\n",
      "[nltk_data] Downloading package omw-1.4 to\n",
      "[nltk_data]     C:\\Users\\USER\\AppData\\Roaming\\nltk_data...\n",
      "[nltk_data]   Package omw-1.4 is already up-to-date!\n",
      "[nltk_data] Downloading package wordnet to\n",
      "[nltk_data]     C:\\Users\\USER\\AppData\\Roaming\\nltk_data...\n",
      "[nltk_data]   Package wordnet is already up-to-date!\n"
     ]
    }
   ],
   "source": [
    "nltk.download('stopwords')\n",
    "nltk.download('omw-1.4')\n",
    "nltk.download('wordnet')\n",
    "lemmatizer = WordNetLemmatizer()\n",
    "ps = PorterStemmer()\n",
    "stop_words = set(stopwords.words('english'))"
   ]
  },
  {
   "cell_type": "code",
   "execution_count": 3,
   "metadata": {},
   "outputs": [],
   "source": [
    "#lower, remove punctuations , remove stop words , tokenize input\n",
    "def filter_text(input_string , string , stop_words):\n",
    "    tokenized_input = input_string.translate(str.maketrans('', '', string.punctuation)).lower().split()\n",
    "    filterd_tokenized_input = [w for w in tokenized_input if not w in stop_words]\n",
    "    filterd_tokenized_input = [ps.stem(lemmatizer.lemmatize(i)) for i in filterd_tokenized_input ]\n",
    "    return filterd_tokenized_input\n"
   ]
  },
  {
   "cell_type": "code",
   "execution_count": 4,
   "metadata": {},
   "outputs": [],
   "source": [
    "import glob\n",
    "import os"
   ]
  },
  {
   "cell_type": "code",
   "execution_count": 5,
   "metadata": {},
   "outputs": [],
   "source": [
    "#loading the bm25 model\n",
    "with open(r\"models\\model.pkl\", 'rb') as file:\n",
    "    model = pickle.load(file)\n",
    "\n",
    "# loading the flatten corpus for the fuzzy search\n",
    "with open('flatten_corpus.json', 'r', encoding='utf-8') as json_file:\n",
    "    flatten_corpus = json.load(json_file)\n",
    "\n",
    "# loading the the pdfs jsons : results\n",
    "with open('animes_data.json', 'r', encoding='utf-8') as json_file:\n",
    "    animes_json = json.load(json_file)"
   ]
  },
  {
   "cell_type": "code",
   "execution_count": 6,
   "metadata": {},
   "outputs": [],
   "source": [
    "app = FastAPI()\n",
    "\n",
    "app.add_middleware(\n",
    "    CORSMiddleware,\n",
    "    allow_origins=[\"*\"],  # React app URL\n",
    "    allow_credentials=True,\n",
    "    allow_methods=[\"*\"],\n",
    "    allow_headers=[\"*\"],\n",
    ")"
   ]
  },
  {
   "cell_type": "code",
   "execution_count": 7,
   "metadata": {},
   "outputs": [],
   "source": [
    "doc_names = [anime['doc_name'] for anime in animes_json]\n"
   ]
  },
  {
   "cell_type": "code",
   "execution_count": 8,
   "metadata": {},
   "outputs": [],
   "source": [
    "@app.get(\"/search\")\n",
    "def anime_search(query : str):\n",
    "\n",
    "\n",
    "    tokenized_query = query.translate(str.maketrans('', '', string.punctuation)).lower().split()\n",
    "\n",
    "    fuzzy_tokenized_query_list = []\n",
    "\n",
    "    for q in tokenized_query:\n",
    "        if len(q) <= 2:\n",
    "            q=q\n",
    "        else :\n",
    "            print(process.extract(q,flatten_corpus,limit=3))\n",
    "            fuzzy_query = process.extractOne(q, flatten_corpus)\n",
    "            q = fuzzy_query[0] if fuzzy_query[1] > 79 else q\n",
    "            \n",
    "        fuzzy_tokenized_query_list.append(q)\n",
    "\n",
    "    fuzzy_tokenized_query = ' '.join(fuzzy_tokenized_query_list)\n",
    "    print(fuzzy_tokenized_query)\n",
    "\n",
    "    fuzzy_tokenized_cleaned_query = filter_text(fuzzy_tokenized_query , string , stop_words)\n",
    "    print(fuzzy_tokenized_cleaned_query)\n",
    "    \n",
    "    result = model.get_top_n(fuzzy_tokenized_cleaned_query , doc_names, n = 100)\n",
    "    print(result)\n",
    "\n",
    "    return {'correct_query':fuzzy_tokenized_query,'results':result}\n"
   ]
  },
  {
   "cell_type": "code",
   "execution_count": null,
   "metadata": {},
   "outputs": [
    {
     "name": "stderr",
     "output_type": "stream",
     "text": [
      "INFO:     Started server process [7540]\n",
      "INFO:     Waiting for application startup.\n",
      "INFO:     Application startup complete.\n",
      "INFO:     Uvicorn running on http://127.0.0.1:8000 (Press CTRL+C to quit)\n"
     ]
    },
    {
     "name": "stdout",
     "output_type": "stream",
     "text": [
      "[('one', 100.0, 153), ('throne', 90.0, 158), ('abandoned', 90.0, 231)]\n",
      "[('pieces', 90.0, 6587), ('piece', 88.88888888888889, 2366), ('piccolo', 77.14285714285715, 2634)]\n",
      "one pieces\n",
      "['one', 'piec']\n",
      "[{'doc': 'anime262.pdf', 'score': 6.867176974509181}, {'doc': 'anime378.pdf', 'score': 6.349295862759902}, {'doc': 'anime394.pdf', 'score': 6.2660444123825885}, {'doc': 'anime125.pdf', 'score': 5.8654337318737095}, {'doc': 'anime151.pdf', 'score': 4.372291802062692}, {'doc': 'anime209.pdf', 'score': 3.9461168031520586}, {'doc': 'anime66.pdf', 'score': 3.7556304376401712}, {'doc': 'anime344.pdf', 'score': 3.4798839316152295}, {'doc': 'anime89.pdf', 'score': 3.3688617540258785}, {'doc': 'anime363.pdf', 'score': 3.2872902326076545}, {'doc': 'anime269.pdf', 'score': 3.264704653685462}, {'doc': 'anime358.pdf', 'score': 3.2314022591948017}]\n",
      "INFO:     127.0.0.1:49760 - \"GET /search?query=one%20piec HTTP/1.1\" 200 OK\n",
      "[('one', 100.0, 153), ('throne', 90.0, 158), ('abandoned', 90.0, 231)]\n",
      "[('pieces', 100.0, 6587), ('piece', 90.9090909090909, 2366), ('aces', 77.14285714285715, 477)]\n",
      "one pieces\n",
      "['one', 'piec']\n",
      "[{'doc': 'anime262.pdf', 'score': 6.867176974509181}, {'doc': 'anime378.pdf', 'score': 6.349295862759902}, {'doc': 'anime394.pdf', 'score': 6.2660444123825885}, {'doc': 'anime125.pdf', 'score': 5.8654337318737095}, {'doc': 'anime151.pdf', 'score': 4.372291802062692}, {'doc': 'anime209.pdf', 'score': 3.9461168031520586}, {'doc': 'anime66.pdf', 'score': 3.7556304376401712}, {'doc': 'anime344.pdf', 'score': 3.4798839316152295}, {'doc': 'anime89.pdf', 'score': 3.3688617540258785}, {'doc': 'anime363.pdf', 'score': 3.2872902326076545}, {'doc': 'anime269.pdf', 'score': 3.264704653685462}, {'doc': 'anime358.pdf', 'score': 3.2314022591948017}]\n",
      "INFO:     127.0.0.1:49769 - \"GET /search?query=one%20pieces HTTP/1.1\" 200 OK\n",
      "[('one', 100.0, 153), ('throne', 90.0, 158), ('abandoned', 90.0, 231)]\n",
      "[('piece', 100.0, 2366), ('pieces', 90.9090909090909, 6587), ('piercer', 83.33333333333334, 8625)]\n",
      "one piece\n",
      "['one', 'piec']\n",
      "[{'doc': 'anime262.pdf', 'score': 6.867176974509181}, {'doc': 'anime378.pdf', 'score': 6.349295862759902}, {'doc': 'anime394.pdf', 'score': 6.2660444123825885}, {'doc': 'anime125.pdf', 'score': 5.8654337318737095}, {'doc': 'anime151.pdf', 'score': 4.372291802062692}, {'doc': 'anime209.pdf', 'score': 3.9461168031520586}, {'doc': 'anime66.pdf', 'score': 3.7556304376401712}, {'doc': 'anime344.pdf', 'score': 3.4798839316152295}, {'doc': 'anime89.pdf', 'score': 3.3688617540258785}, {'doc': 'anime363.pdf', 'score': 3.2872902326076545}, {'doc': 'anime269.pdf', 'score': 3.264704653685462}, {'doc': 'anime358.pdf', 'score': 3.2314022591948017}]\n",
      "INFO:     127.0.0.1:49769 - \"GET /search?query=one%20piece HTTP/1.1\" 200 OK\n"
     ]
    }
   ],
   "source": [
    "\n",
    "nest_asyncio.apply()\n",
    "uvicorn.run(app, port=8000)"
   ]
  },
  {
   "cell_type": "code",
   "execution_count": null,
   "metadata": {},
   "outputs": [],
   "source": []
  }
 ],
 "metadata": {
  "kernelspec": {
   "display_name": "Python 3 (ipykernel)",
   "language": "python",
   "name": "python3"
  },
  "language_info": {
   "codemirror_mode": {
    "name": "ipython",
    "version": 3
   },
   "file_extension": ".py",
   "mimetype": "text/x-python",
   "name": "python",
   "nbconvert_exporter": "python",
   "pygments_lexer": "ipython3",
   "version": "3.10.9"
  }
 },
 "nbformat": 4,
 "nbformat_minor": 2
}
